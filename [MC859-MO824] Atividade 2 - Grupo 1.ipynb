{
 "cells": [
  {
   "cell_type": "markdown",
   "metadata": {},
   "source": [
    "# Geração de instâncias"
   ]
  },
  {
   "cell_type": "code",
   "execution_count": 1,
   "metadata": {},
   "outputs": [],
   "source": [
    "import math\n",
    "import json"
   ]
  },
  {
   "cell_type": "code",
   "execution_count": 2,
   "metadata": {},
   "outputs": [],
   "source": [
    "# Salva um arquivo JSON com o dicionário fornecido\n",
    "def imprimir_json(nome_arquivo, dados):\n",
    "    with open(nome_arquivo, 'w', encoding='utf-8') as arquivo:\n",
    "        json.dump(dados, arquivo, ensure_ascii = False, indent = 4)"
   ]
  },
  {
   "cell_type": "code",
   "execution_count": 3,
   "metadata": {},
   "outputs": [],
   "source": [
    "# Número de vértices possíveis\n",
    "V = [100, 150, 200, 250]\n",
    "instancias = []\n",
    "\n",
    "for v in V:\n",
    "    coordenadas = []\n",
    "    \n",
    "    K = [0, int(v/2), v]\n",
    "    \n",
    "    with open('mo824_atividade2_coords','r') as coordsFile:\n",
    "        for i in range(v):\n",
    "            line = next(coordsFile)\n",
    "            coordenadas.append([int(x) for x in line.split()])\n",
    "            \n",
    "    custos = {(i, j): [\n",
    "        math.sqrt(sum((coordenadas[i][k]-coordenadas[j][k])**2 for k in range(2))),\n",
    "        math.sqrt(sum((coordenadas[i][k+2]-coordenadas[j][k+2])**2 for k in range(2)))]\n",
    "        for i in range(v) for j in range(v)}\n",
    "    \n",
    "    custosCopia = {str((i, j)): [\n",
    "        math.sqrt(sum((coordenadas[i][k]-coordenadas[j][k])**2 for k in range(2))),\n",
    "        math.sqrt(sum((coordenadas[i][k+2]-coordenadas[j][k+2])**2 for k in range(2)))]\n",
    "        for i in range(v) for j in range(v)}\n",
    "    \n",
    "    for k in K:\n",
    "        instancia = {}\n",
    "        instancia[\"k\"] = k\n",
    "        instancia[\"custos\"] = custos\n",
    "        instancia[\"V\"] = v\n",
    "        instancias.append(instancia)\n",
    "        \n",
    "        instancia.update({\"custos\":custosCopia})\n",
    "        imprimir_json(f'instancia-vertices-{v}-similaridade-{k}.json', instancia)"
   ]
  },
  {
   "cell_type": "markdown",
   "metadata": {},
   "source": [
    "# k-TSP"
   ]
  },
  {
   "cell_type": "code",
   "execution_count": 4,
   "metadata": {},
   "outputs": [],
   "source": [
    "import sys\n",
    "import math\n",
    "import random\n",
    "from itertools import combinations\n",
    "import gurobipy as gp\n",
    "from gurobipy import GRB"
   ]
  },
  {
   "cell_type": "code",
   "execution_count": 5,
   "metadata": {},
   "outputs": [],
   "source": [
    "# Callback - use lazy constraints to eliminate sub-tours\n",
    "def subtourelim(model, where):\n",
    "    if where == GRB.Callback.MIPSOL:\n",
    "        # make a list of edges selected in the solution\n",
    "        vals = model.cbGetSolution(model._vars)\n",
    "        selected = gp.tuplelist((i, j) for i, j in model._vars.keys()\n",
    "                                if vals[i, j] > 0.5)\n",
    "        # find the shortest cycle in the selected edge list\n",
    "        tour = subtour(selected)\n",
    "        if len(tour) < n:\n",
    "            # add subtour elimination constr. for every pair of cities in tour\n",
    "            model.cbLazy(gp.quicksum(model._vars[i, j]\n",
    "                                     for i, j in combinations(tour, 2))\n",
    "                         <= len(tour)-1)"
   ]
  },
  {
   "cell_type": "code",
   "execution_count": 6,
   "metadata": {},
   "outputs": [],
   "source": [
    "# Given a tuplelist of edges, find the shortest subtour\n",
    "\n",
    "def subtour(edges):\n",
    "    unvisited = list(range(n))\n",
    "    cycle = range(n+1)  # initial length has 1 more city\n",
    "    while unvisited:  # true if list is non-empty\n",
    "        thiscycle = []\n",
    "        neighbors = unvisited\n",
    "        while neighbors:\n",
    "            current = neighbors[0]\n",
    "            thiscycle.append(current)\n",
    "            unvisited.remove(current)\n",
    "            neighbors = [j for i, j in edges.select(current, '*')\n",
    "                         if j in unvisited]\n",
    "        if len(cycle) > len(thiscycle):\n",
    "            cycle = thiscycle\n",
    "    return cycle"
   ]
  },
  {
   "cell_type": "code",
   "execution_count": 7,
   "metadata": {},
   "outputs": [
    {
     "name": "stdout",
     "output_type": "stream",
     "text": [
      "Set parameter Username\n",
      "Academic license - for non-commercial use only - expires 2022-05-17\n",
      "Set parameter LazyConstraints to value 1\n",
      "Gurobi Optimizer version 9.5.1 build v9.5.1rc2 (win64)\n",
      "Thread count: 4 physical cores, 8 logical processors, using up to 8 threads\n",
      "Optimize a model with 20 rows, 190 columns and 380 nonzeros\n",
      "Model fingerprint: 0x32ae205a\n",
      "Variable types: 0 continuous, 190 integer (190 binary)\n",
      "Coefficient statistics:\n",
      "  Matrix range     [1e+00, 1e+00]\n",
      "  Objective range  [2e+00, 1e+02]\n",
      "  Bounds range     [1e+00, 1e+00]\n",
      "  RHS range        [2e+00, 2e+00]\n",
      "Presolve time: 0.00s\n",
      "Presolved: 20 rows, 190 columns, 380 nonzeros\n",
      "Variable types: 0 continuous, 190 integer (190 binary)\n",
      "\n",
      "Root relaxation: objective 4.484281e+02, 31 iterations, 0.00 seconds (0.00 work units)\n",
      "\n",
      "    Nodes    |    Current Node    |     Objective Bounds      |     Work\n",
      " Expl Unexpl |  Obj  Depth IntInf | Incumbent    BestBd   Gap | It/Node Time\n",
      "\n",
      "     0     0  448.42814    0    6          -  448.42814      -     -    0s\n",
      "H    0     0                     738.2816556  448.42814  39.3%     -    0s\n",
      "H    0     0                     608.0231118  448.42814  26.2%     -    0s\n",
      "     0     0  450.58569    0    8  608.02311  450.58569  25.9%     -    0s\n",
      "*    0     0               0     470.1462943  470.14629  0.00%     -    0s\n",
      "\n",
      "Cutting planes:\n",
      "  Gomory: 1\n",
      "  Zero half: 1\n",
      "  Lazy constraints: 5\n",
      "\n",
      "Explored 1 nodes (42 simplex iterations) in 0.04 seconds (0.00 work units)\n",
      "Thread count was 8 (of 8 available processors)\n",
      "\n",
      "Solution count 3: 470.146 608.023 738.282 \n",
      "\n",
      "Optimal solution found (tolerance 1.00e-04)\n",
      "Best objective 4.701462942872e+02, best bound 4.701462942872e+02, gap 0.0000%\n",
      "\n",
      "User-callback calls 124, time in user-callback 0.01 sec\n",
      "\n",
      "Optimal tour: [0, 4, 9, 3, 10, 17, 5, 19, 13, 6, 1, 14, 12, 15, 2, 16, 18, 8, 7, 11]\n",
      "Optimal cost: 470.146\n",
      "\n"
     ]
    }
   ],
   "source": [
    "n = 20\n",
    "\n",
    "# Create n random points\n",
    "\n",
    "random.seed(1)\n",
    "points = [(random.randint(0, 100), random.randint(0, 100)) for i in range(n)]\n",
    "\n",
    "# Dictionary of Euclidean distance between each pair of points\n",
    "\n",
    "dist = {(i, j):\n",
    "        math.sqrt(sum((points[i][k]-points[j][k])**2 for k in range(2)))\n",
    "        for i in range(n) for j in range(i)}\n",
    "\n",
    "m = gp.Model()\n",
    "\n",
    "# Create variables\n",
    "\n",
    "vars = m.addVars(dist.keys(), obj=dist, vtype=GRB.BINARY, name='e')\n",
    "for i, j in vars.keys():\n",
    "    vars[j, i] = vars[i, j]  # edge in opposite direction\n",
    "\n",
    "# You could use Python looping constructs and m.addVar() to create\n",
    "# these decision variables instead.  The following would be equivalent\n",
    "# to the preceding m.addVars() call...\n",
    "#\n",
    "# vars = tupledict()\n",
    "# for i,j in dist.keys():\n",
    "#   vars[i,j] = m.addVar(obj=dist[i,j], vtype=GRB.BINARY,\n",
    "#                        name='e[%d,%d]'%(i,j))\n",
    "\n",
    "\n",
    "# Add degree-2 constraint\n",
    "\n",
    "m.addConstrs(vars.sum(i, '*') == 2 for i in range(n))\n",
    "\n",
    "# Using Python looping constructs, the preceding would be...\n",
    "#\n",
    "# for i in range(n):\n",
    "#   m.addConstr(sum(vars[i,j] for j in range(n)) == 2)\n",
    "\n",
    "\n",
    "# Optimize model\n",
    "\n",
    "m._vars = vars\n",
    "m.Params.lazyConstraints = 1\n",
    "m.optimize(subtourelim)\n",
    "\n",
    "vals = m.getAttr('x', vars)\n",
    "selected = gp.tuplelist((i, j) for i, j in vals.keys() if vals[i, j] > 0.5)\n",
    "\n",
    "tour = subtour(selected)\n",
    "assert len(tour) == n\n",
    "\n",
    "print('')\n",
    "print('Optimal tour: %s' % str(tour))\n",
    "print('Optimal cost: %g' % m.objVal)\n",
    "print('')"
   ]
  },
  {
   "cell_type": "code",
   "execution_count": null,
   "metadata": {},
   "outputs": [],
   "source": []
  }
 ],
 "metadata": {
  "kernelspec": {
   "display_name": "Python 3",
   "language": "python",
   "name": "python3"
  },
  "language_info": {
   "codemirror_mode": {
    "name": "ipython",
    "version": 3
   },
   "file_extension": ".py",
   "mimetype": "text/x-python",
   "name": "python",
   "nbconvert_exporter": "python",
   "pygments_lexer": "ipython3",
   "version": "3.8.5"
  }
 },
 "nbformat": 4,
 "nbformat_minor": 4
}
