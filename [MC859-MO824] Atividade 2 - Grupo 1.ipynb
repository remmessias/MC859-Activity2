{
 "cells": [
  {
   "cell_type": "markdown",
   "metadata": {},
   "source": [
    "# Geração de instâncias"
   ]
  },
  {
   "cell_type": "code",
   "execution_count": 1,
   "metadata": {},
   "outputs": [],
   "source": [
    "import math\n",
    "import json"
   ]
  },
  {
   "cell_type": "code",
   "execution_count": 2,
   "metadata": {},
   "outputs": [],
   "source": [
    "# Salva um arquivo JSON com o dicionário fornecido\n",
    "def imprimir_json(nome_arquivo, dados):\n",
    "    with open(nome_arquivo, 'w', encoding='utf-8') as arquivo:\n",
    "        json.dump(dados, arquivo, ensure_ascii = False, indent = 4)"
   ]
  },
  {
   "cell_type": "code",
   "execution_count": 3,
   "metadata": {},
   "outputs": [],
   "source": [
    "# Número de vértices possíveis\n",
    "V = [100, 150, 200, 250]\n",
    "\n",
    "for v in V:\n",
    "    coordenadas = []\n",
    "    \n",
    "    K = [0, int(v/2), v]\n",
    "    \n",
    "    with open('mo824_atividade2_coords','r') as coordsFile:\n",
    "        for i in range(v):\n",
    "            line = next(coordsFile)\n",
    "            coordenadas.append([int(x) for x in line.split()])\n",
    "            \n",
    "    custos = {str((i, j)): [\n",
    "        math.sqrt(sum((coordenadas[i][k]-coordenadas[j][k])**2 for k in range(2))),\n",
    "        math.sqrt(sum((coordenadas[i][k+2]-coordenadas[j][k+2])**2 for k in range(2)))]\n",
    "        for i in range(v) for j in range(v)}\n",
    "    \n",
    "    for k in K:\n",
    "        instancia = {}\n",
    "        instancia[\"k\"] = k\n",
    "        instancia[\"custos\"] = custos\n",
    "        instancia[\"V\"] = v\n",
    "        \n",
    "        imprimir_json(f'instancia-vertices-{v}-similaridade-{k}.json', instancia)"
   ]
  }
 ],
 "metadata": {
  "kernelspec": {
   "display_name": "Python 3",
   "language": "python",
   "name": "python3"
  },
  "language_info": {
   "codemirror_mode": {
    "name": "ipython",
    "version": 3
   },
   "file_extension": ".py",
   "mimetype": "text/x-python",
   "name": "python",
   "nbconvert_exporter": "python",
   "pygments_lexer": "ipython3",
   "version": "3.8.5"
  }
 },
 "nbformat": 4,
 "nbformat_minor": 4
}
